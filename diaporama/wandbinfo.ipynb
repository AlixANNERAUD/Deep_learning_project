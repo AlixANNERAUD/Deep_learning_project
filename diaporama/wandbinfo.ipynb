{
 "cells": [
  {
   "cell_type": "code",
   "execution_count": null,
   "id": "4012f44c",
   "metadata": {
    "vscode": {
     "languageId": "plaintext"
    }
   },
   "outputs": [],
   "source": [
    "import wandb\n",
    "import pandas as pd\n",
    "import matplotlib.pyplot as plt\n",
    "\n",
    "# 1. Se connecter à l’API\n",
    "api = wandb.Api()\n",
    "\n",
    "# 2. Charger le sweep\n",
    "# Remplace 'entity', 'project' et 'SWEEP_ID' par tes infos\n",
    "sweep = api.sweep(\"entity/project/SWEEP_ID\")\n",
    "\n",
    "# 3. Pour chaque run, récupérer l’historique des métriques\n",
    "all_runs = []\n",
    "for run in sweep.runs:\n",
    "    # Choisis les clés qui t’intéressent, ex. 'train_loss', 'val_loss', 'val_accuracy'\n",
    "    df = run.history(keys=[\"train_loss\", \"val_loss\", \"val_accuracy\"], pandas=True)\n",
    "    df[\"run_name\"] = run.name\n",
    "    df[\"step\"] = df[\"_step\"]\n",
    "    all_runs.append(df)\n",
    "\n",
    "# 4. Concaténer toutes les courbes\n",
    "df_all = pd.concat(all_runs, ignore_index=True)\n",
    "\n",
    "# 5. Tracer\n",
    "plt.figure()\n",
    "for run_name, group in df_all.groupby(\"run_name\"):\n",
    "    plt.plot(group[\"step\"], group[\"val_accuracy\"], label=run_name)\n",
    "plt.xlabel(\"Step\")\n",
    "plt.ylabel(\"Validation Accuracy\")\n",
    "plt.legend(bbox_to_anchor=(1.05, 1), loc='upper left')\n",
    "plt.title(\"Validation Accuracy par run\")\n",
    "plt.tight_layout()\n",
    "plt.show()\n"
   ]
  }
 ],
 "metadata": {
  "language_info": {
   "name": "python"
  }
 },
 "nbformat": 4,
 "nbformat_minor": 5
}
