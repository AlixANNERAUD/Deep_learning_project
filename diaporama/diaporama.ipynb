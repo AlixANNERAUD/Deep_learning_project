{
 "cells": [
  {
   "cell_type": "markdown",
   "id": "7b2e6e30",
   "metadata": {
    "slideshow": {
     "slide_type": "slide"
    }
   },
   "source": [
    "# Segmentation panoptique des noyaux et des tissus dans le mélanome avancé (PUMA)\n",
    "## Projet deep learning"
   ]
  },
  {
   "cell_type": "markdown",
   "id": "9723314b",
   "metadata": {
    "slideshow": {
     "slide_type": "notes"
    }
   },
   "source": [
    "Bonjour à tous,\n",
    "\n",
    "Nous allons vous présenter notre projet de deep learning sur la segmentation et classification des noyaux cellulaires dans le mélanome.\n",
    "\n",
    "Dans ce projet, nous avons travaillé sur l'application de méthodes et modèles de deep  sur la segmentation et classification des noyaux cellulaires et tissus dans les images histopathologiques du mélanome en utilisant des techniques de deep learning.\n",
    "\n",
    "Ce projet se base sur le concours PUMA organisé par le consortium de recherche sur le mélan\n",
    "\n",
    "Nous nous basons sur l'article scientifique : \"PUMA: A dataset for deep learning-based nuclei and tissue segmentation in advanced melanoma with improved biomarker potential\" publié dans GigaScience en 2024.\n",
    "\n",
    "Ce travail s'inscrit dans une démarche d'amélioration des biomarqueurs pronostiques pour le mélanome avancé."
   ]
  },
  {
   "cell_type": "markdown",
   "id": "795b0b7a",
   "metadata": {
    "slideshow": {
     "slide_type": "slide"
    }
   },
   "source": [
    "# 1. Contexte"
   ]
  },
  {
   "cell_type": "markdown",
   "id": "679a1d22",
   "metadata": {
    "slideshow": {
     "slide_type": "subslide"
    }
   },
   "source": [
    "## Le mélanome et ses biomarqueurs\n",
    "\n",
    "- Mélanome : cancer agressif de la peau en augmentation\n",
    "- 50% des patients ne répondent pas à l'immunothérapie\n",
    "- Les lymphocytes infiltrant la tumeur (TILs) = biomarqueur pronostique clé\n",
    "- Limites actuelles : évaluation manuelle subjective et variable"
   ]
  },
  {
   "cell_type": "markdown",
   "id": "7f3ae1c2",
   "metadata": {
    "slideshow": {
     "slide_type": "notes"
    }
   },
   "source": [
    "Le mélanome est une forme particulièrement agressive de cancer cutané dont l'incidence augmente globalement. Bien que le mélanome primaire soit souvent traité par excision chirurgicale, le mélanome avancé nécessite une immunothérapie par inhibiteurs de points de contrôle immunitaires.\n",
    "\n",
    "Malheureusement, environ la moitié des patients ne répondent pas à cette thérapie, qui est coûteuse et potentiellement toxique. Il est donc crucial d'identifier des biomarqueurs capables de prédire la réponse au traitement.\n",
    "\n",
    "Les lymphocytes infiltrant la tumeur (TILs) sont reconnus comme un biomarqueur pronostique important, mais leur évaluation manuelle est subjective, chronophage et souffre d'une variabilité inter-observateurs considérable.\n",
    "\n",
    "Ces limitations motivent le développement d'approches automatisées basées sur l'intelligence artificielle pour quantifier et caractériser les TILs de manière plus objective et reproductible."
   ]
  },
  {
   "cell_type": "markdown",
   "id": "1573eeb9",
   "metadata": {
    "slideshow": {
     "slide_type": "subslide"
    }
   },
   "source": [
    "## Défis Spécifiques au Mélanome\n",
    "\n",
    "- Cellules de mélanome mimétiques imitant d'autres types cellulaires\n",
    "- Modèles génériques (HoverNet sur PanNuke) : performance sous-optimale\n",
    "- Confusion fréquente entre cellules tumorales/lymphocytes/stromales\n",
    "\n",
    "→ Nécessité d'un modèle spécifique au mélanome"
   ]
  },
  {
   "cell_type": "markdown",
   "id": "c383ce95",
   "metadata": {
    "slideshow": {
     "slide_type": "notes"
    }
   },
   "source": [
    "L'analyse histopathologique du mélanome présente des défis spécifiques qui compliquent l'application des modèles d'IA existants :\n",
    "\n",
    "1. Les cellules de mélanome ont une capacité unique à imiter morphologiquement d'autres types cellulaires, rendant leur identification automatique particulièrement difficile.\n",
    "\n",
    "2. Les modèles génériques comme HoverNet, même lorsqu'ils sont pré-entraînés sur des datasets comme PanNuke (qui inclut des échantillons de peau), montrent des performances sous-optimales sur les images de mélanome.\n",
    "\n",
    "3. Ces modèles confondent fréquemment les cellules tumorales avec des lymphocytes ou des cellules stromales, compromettant ainsi l'évaluation précise des TILs.\n",
    "\n",
    "4. Les méthodes manuelles actuelles souffrent également d'une grande variabilité dans l'évaluation de la localisation des TILs (intratumorale vs péritumorale), qui est pourtant cruciale pour évaluer leur valeur pronostique.\n",
    "\n",
    "Ces défis justifient le développement d'un modèle spécifiquement adapté au mélanome, entraîné sur des données annotées de haute qualité."
   ]
  },
  {
   "cell_type": "markdown",
   "id": "1816bcb7",
   "metadata": {
    "slideshow": {
     "slide_type": "subslide"
    }
   },
   "source": [
    "## Jeu de données\n",
    "\n",
    "Le jeu de données PUMA : \n",
    "\n",
    "- 310 échantillons:\n",
    "  - 155 ROIs de mélanomes primaires + 155 ROIs métastatiques\n",
    "  - Images H&E à 40x (1024×1024 pixels)\n",
    "  - Annotations validées par un dermato-pathologiste\n",
    "    - Noyaux : tumeur, lymphocytes, plasmocytes, histiocytes (10 classes)\n",
    "    - Tissus : tumeur, stroma, épiderme, vaisseaux sanguins (5 classes)"
   ]
  },
  {
   "cell_type": "markdown",
   "id": "dd3bc267",
   "metadata": {
    "slideshow": {
     "slide_type": "notes"
    }
   },
   "source": [
    "Le dataset PUMA (Panoptic segmentation of nUclei and tissue in MelanomA) constitue la première base de données spécifique au mélanome pour la segmentation panoptique des noyaux cellulaires et des tissus :\n",
    "\n",
    "- Il comprend 155 régions d'intérêt (ROIs) de mélanomes primaires et 155 de mélanomes métastatiques, offrant ainsi un échantillonnage représentatif de la diversité morphologique de cette pathologie.\n",
    "\n",
    "- Les images sont des coupes histologiques colorées à l'hématoxyline et à l'éosine (H&E), numérisées à un grossissement de 40x avec une résolution de 1024×1024 pixels.\n",
    "\n",
    "- Chaque ROI est accompagnée d'une ROI contextuelle de 5120×5120 pixels centrée autour d'elle, permettant d'analyser l'environnement tissulaire plus large.\n",
    "\n",
    "- Les annotations des noyaux cellulaires identifient 10 types distincts : tumeur, lymphocytes, plasmocytes, histiocytes, mélanophages, neutrophiles, cellules stromales, épithélium, endothélium et cellules apoptotiques.\n",
    "\n",
    "- Les annotations tissulaires comprennent 5 catégories : tumeur, stroma, épithélium, vaisseaux sanguins et zones nécrotiques.\n",
    "\n",
    "- Toutes les annotations ont été réalisées par un professionnel médical et vérifiées par un dermato-pathologiste certifié, garantissant leur qualité et leur pertinence clinique.\n",
    "\n",
    "Ce jeu de données unique permet de développer et d'évaluer des modèles spécifiques au mélanome avec un niveau de granularité sans précédent."
   ]
  },
  {
   "cell_type": "markdown",
   "id": "29c04361",
   "metadata": {
    "slideshow": {
     "slide_type": "subslide"
    }
   },
   "source": [
    "## Principe\n",
    "\n",
    "Il y a 2 tâches : \n",
    "\n",
    "1. Segmentation et classification des noyaux cellulaires\n",
    "2. Segmentation et classification des tissus\n",
    "\n",
    "Ces deux tâches sont différentes mais complémentaires."
   ]
  },
  {
   "cell_type": "markdown",
   "id": "d6a93ef9",
   "metadata": {},
   "source": [
    "Pour permettre le diagnostic et le pronostic du mélanome, il est essentiel de segmenter et classifier les noyaux cellulaires et les tissus dans les images histopathologiques.\n",
    "\n",
    "Il s'agit de deux tâches de segmentation panoptique, où chaque pixel d'une image est classé en fonction de son appartenance à une catégorie spécifique.\n",
    "\n",
    "Attention, il faut bien faire la différence entre la segmentation panoptique et la segmentation sémantique. \n",
    "\n",
    "La segmentation panoptique consiste à segmenter chaque pixel d'une image en lui attribuant une étiquette de classe, tout en tenant compte de la hiérarchie des objets présents dans l'image. En revanche, la segmentation sémantique se concentre uniquement sur l'attribution d'étiquettes de classe aux pixels, sans tenir compte de la hiérarchie ou des relations entre les objets.\n",
    "\n",
    "Ainsi, il à la fois une tâche de segmentation sémantique (identifier les classes) et une tâche de détection d'objets (identifier les instances).\n",
    "\n",
    "Il faut donc 2 modèles : un pour la segmentation des noyaux et un pour la segmentation des tissus."
   ]
  },
  {
   "cell_type": "markdown",
   "id": "36f1b68e",
   "metadata": {
    "slideshow": {
     "slide_type": "slide"
    }
   },
   "source": [
    "# 2. Méthodologie"
   ]
  },
  {
   "cell_type": "markdown",
   "id": "4191ae50",
   "metadata": {},
   "source": [
    "1. Etat de l'art \n",
    "2. Prétraitement\n",
    "3. Modèle\n",
    "4. Entraînement\n",
    "5. Évaluation\n",
    "6. Interprétation"
   ]
  },
  {
   "cell_type": "markdown",
   "id": "8f9e40da",
   "metadata": {},
   "source": [
    "La méthodologie de ce projet se décline en plusieurs étapes clés :\n",
    "\n",
    "1. **État de l'art** : Analyse des méthodes existantes pour la segmentation et la classification des noyaux cellulaires et des tissus dans les images histopathologiques, en mettant l'accent sur les défis spécifiques au mélanome. Cette étape est réalisée en consultant la littérature scientifique et également en demandant à ChatGPT de faire une revue de la littérature sur le sujet.\n",
    "2. **Prétraitement** : Préparation des données, y compris la normalisation des images, l'augmentation des données et la création de masques d'annotation pour les noyaux et les tissus.\n",
    "3. **Modèle** : Sélection et adaptation d'un modèle de deep learning pour la segmentation panoptique, en tenant compte des spécificités du mélanome.\n",
    "4. **Entraînement** : Entraînement du modèle sur le jeu de données PUMA, en utilisant des techniques d'optimisation et de régularisation pour améliorer la performance.\n",
    "5. **Évaluation** : Évaluation des performances du modèle sur un ensemble de test indépendant, en utilisant des métriques appropriées pour la segmentation et la classification.\n",
    "6. **Interprétation** : Analyse des résultats obtenus, identification des forces et des faiblesses du modèle, et discussion des implications cliniques potentielles."
   ]
  },
  {
   "cell_type": "markdown",
   "id": "305fad9c",
   "metadata": {
    "slideshow": {
     "slide_type": "slide"
    }
   },
   "source": [
    "# 3. Projet"
   ]
  },
  {
   "cell_type": "markdown",
   "id": "131ad6f0",
   "metadata": {},
   "source": [
    "Nous avons essayé plusieurs "
   ]
  },
  {
   "cell_type": "markdown",
   "id": "0f38a564",
   "metadata": {
    "slideshow": {
     "slide_type": "slide"
    }
   },
   "source": [
    "# 4. Résultats"
   ]
  },
  {
   "cell_type": "markdown",
   "id": "fdb74dc8",
   "metadata": {
    "slideshow": {
     "slide_type": "subslide"
    }
   },
   "source": [
    "# 5. Conclusion"
   ]
  },
  {
   "cell_type": "markdown",
   "id": "f7bfd1b6",
   "metadata": {
    "slideshow": {
     "slide_type": "subslide"
    }
   },
   "source": [
    "## Critique\n",
    "\n",
    "- **Qualité de l'implémentation :**\n",
    "  - Gestion insuffisante des erreurs.\n",
    "  - Manque de clarté et de robustesse du code.\n",
    "- **Stabilité et Dépendances :**\n",
    "  - Difficultés liées à la gestion des versions des librairies.\n",
    "  - Instabilité potentielle des environnements d'exécution.\n",
    "- **Maintenance et Support :**\n",
    "  - Peu de suivi des problèmes signalés (issues).\n",
    "  - Manque de réactivité sur les contributions (pull requests)."
   ]
  },
  {
   "cell_type": "markdown",
   "id": "36add7c4",
   "metadata": {
    "slideshow": {
     "slide_type": "notes"
    }
   },
   "source": [
    "Au cours de ce projet, l'exploitation des modèles existants a présenté plusieurs défis.\n",
    "\n",
    "Premièrement, la qualité de l'implémentation de certains outils s'est avérée perfectible. Par exemple, une gestion limitée des exceptions a entraîné des arrêts inattendus du programme, parfois sans message d'erreur explicite, compliquant le débogage.\n",
    "\n",
    "Deuxièmement, la stabilité des modèles a été affectée par une gestion imprécise des dépendances. Il a fallu tester itérativement différentes versions de librairies pour assurer la compatibilité et le bon fonctionnement, ce qui a ralenti le processus de développement.\n",
    "\n",
    "Enfin, le manque de maintenance active et de support communautaire pour certains des outils utilisés a été un frein. Les problèmes signalés par la communauté (issues GitHub) restent souvent sans réponse, et les propositions d'amélioration (pull requests) ne sont pas intégrées, ce qui soulève des questions sur la pérennité et la fiabilité à long terme de ces outils."
   ]
  },
  {
   "cell_type": "markdown",
   "id": "e7ff22e3",
   "metadata": {
    "slideshow": {
     "slide_type": "subslide"
    }
   },
   "source": [
    "## Impact\n",
    "\n",
    "- **Impact calcul et environnemental :**\n",
    "  - **Intensité calculatoire :** Utilisation massive d'opérations matricielles (propagation avant, calcul de perte, rétropropagation, mise à jour des poids) nécessitant des accélérateurs matériels (GPU/TPU).\n",
    "  - **Utilisation des ressources GPU :** Forte demande en mémoire VRAM pour stocker les poids du modèle et les données d'entraînement/inférence.\n",
    "  - **Consommation énergétique :** L'entraînement et l'inférence des modèles profonds sont énergivores. Des architectures comme CellViT++, basées sur des modèles pré-entraînés, peuvent être plus économes que des entraînements complets comme avec nnU-Net.\n",
    "\n",
    "- **Impact politique :** Nvidia et AMD font fabriquer leurs GPU à Taïwan, ce qui soulève des questions sur la dépendance technologique et les implications géopolitiques. \n",
    "\n",
    "- **Impact Clinique et Sociétal :**\n",
    "  - Amélioration du diagnostic/pronostic\n",
    "  - Optimisation du flux de travail\n",
    "  - Aide à la décision thérapeutique\n",
    "  - Potentiel de réduction des coûts"
   ]
  },
  {
   "cell_type": "markdown",
   "id": "57807bd1",
   "metadata": {
    "slideshow": {
     "slide_type": "notes"
    }
   },
   "source": [
    "L'impact de ce type de projet se manifeste à plusieurs niveaux.\n",
    "\n",
    "D'un point de vue **calcul et environnemental**, les modèles de deep learning reposent sur des calculs matriciels intensifs. L'entraînement et même l'inférence exigent des ressources matérielles spécialisées, notamment des GPU dotés d'une mémoire VRAM importante et d'une puissance de calcul élevée. Ces exigences entraînent une consommation énergétique non négligeable, bien que variable selon l'architecture du modèle et la phase (entraînement vs inférence). L'impact environnemental dépend fortement de la source d'énergie utilisée pour alimenter les centres de calcul. Des optimisations (modèles plus légers, inférence sur du matériel dédié moins énergivore) sont des pistes pour mitiger cet impact.\n",
    "\n",
    "D'un point de vue **politique**, la dépendance technologique vis-à-vis de fabricants de GPU comme Nvidia et AMD, qui externalisent leur production à Taïwan, soulève des questions sur la souveraineté numérique et les implications géopolitiques. La concentration de la fabrication de composants critiques dans certaines régions du monde peut poser des risques en cas de tensions internationales. Cependant, les machines utilisées pour la fabrication de ces GPU sont souvent conçues et assemblées en Europe (ASML), ce qui pourrait offrir une certaine résilience à cette dépendance technologique.\n",
    "\n",
    "Sur le plan **clinique et sociétal**, l'automatisation de l'analyse d'images histopathologiques via le deep learning offre des perspectives prometteuses. Elle permet une quantification plus rapide, objective et reproductible de caractéristiques cellulaires et tissulaires complexes, difficiles à évaluer manuellement de manière standardisée. Cela peut conduire à une meilleure stratification des patients, à une aide à la décision thérapeutique plus éclairée (par exemple, pour prédire la réponse à l'immunothérapie dans le cas du mélanome) et à une optimisation du temps précieux des pathologistes. À terme, ces avancées pourraient améliorer la prise en charge des patients, potentiellement réduire les coûts de santé et contribuer à une médecine plus personnalisée."
   ]
  }
 ],
 "metadata": {
  "language_info": {
   "name": "python"
  }
 },
 "nbformat": 4,
 "nbformat_minor": 5
}
