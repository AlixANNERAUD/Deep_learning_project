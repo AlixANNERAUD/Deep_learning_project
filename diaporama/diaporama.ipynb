{
 "cells": [
  {
   "cell_type": "markdown",
   "id": "7b2e6e30",
   "metadata": {
    "slideshow": {
     "slide_type": "slide"
    }
   },
   "source": [
    "# 🔬 Segmentation panoptique des noyaux et des tissus dans le mélanome avancé (PUMA)\n",
    "## 🧬 Projet d'apprentissage profond"
   ]
  },
  {
   "cell_type": "markdown",
   "id": "9723314b",
   "metadata": {
    "slideshow": {
     "slide_type": "notes"
    }
   },
   "source": [
    "Bonjour à tous,\n",
    "\n",
    "Nous allons vous présenter notre projet de deep learning sur la segmentation et classification des noyaux cellulaires dans le mélanome.\n",
    "\n",
    "Dans ce projet, nous avons travaillé sur l'application de méthodes et modèles de deep  sur la segmentation et classification des noyaux cellulaires et tissus dans les images histopathologiques du mélanome en utilisant des techniques de deep learning.\n",
    "\n",
    "Ce projet se base sur le concours PUMA organisé par le consortium de recherche sur le mélan\n",
    "\n",
    "Nous nous basons sur l'article scientifique : \"PUMA: A dataset for deep learning-based nuclei and tissue segmentation in advanced melanoma with improved biomarker potential\" publié dans GigaScience en 2024.\n",
    "\n",
    "Ce travail s'inscrit dans une démarche d'amélioration des biomarqueurs pronostiques pour le mélanome avancé."
   ]
  },
  {
   "cell_type": "markdown",
   "id": "795b0b7a",
   "metadata": {
    "slideshow": {
     "slide_type": "slide"
    }
   },
   "source": [
    "# 1. 📜 Contexte"
   ]
  },
  {
   "cell_type": "markdown",
   "id": "679a1d22",
   "metadata": {
    "slideshow": {
     "slide_type": "subslide"
    }
   },
   "source": [
    "## 🩺 Le mélanome et ses biomarqueurs\n",
    "\n",
    "- Mélanome : cancer agressif de la peau en augmentation\n",
    "- 50% des patients ne répondent pas à l'immunothérapie\n",
    "- Les lymphocytes infiltrant la tumeur (TILs) = biomarqueur pronostique clé\n",
    "- Limites actuelles : évaluation manuelle subjective et variable"
   ]
  },
  {
   "cell_type": "markdown",
   "id": "7f3ae1c2",
   "metadata": {
    "slideshow": {
     "slide_type": "notes"
    }
   },
   "source": [
    "Le mélanome est une forme particulièrement agressive de cancer cutané dont l'incidence augmente globalement. Bien que le mélanome primaire soit souvent traité par excision chirurgicale, le mélanome avancé nécessite une immunothérapie par inhibiteurs de points de contrôle immunitaires.\n",
    "\n",
    "Malheureusement, environ la moitié des patients ne répondent pas à cette thérapie, qui est coûteuse et potentiellement toxique. Il est donc crucial d'identifier des biomarqueurs capables de prédire la réponse au traitement.\n",
    "\n",
    "Les lymphocytes infiltrant la tumeur (TILs) sont reconnus comme un biomarqueur pronostique important, mais leur évaluation manuelle est subjective, chronophage et souffre d'une variabilité inter-observateurs considérable.\n",
    "\n",
    "Ces limitations motivent le développement d'approches automatisées basées sur l'intelligence artificielle pour quantifier et caractériser les TILs de manière plus objective et reproductible."
   ]
  },
  {
   "cell_type": "markdown",
   "id": "1573eeb9",
   "metadata": {
    "slideshow": {
     "slide_type": "subslide"
    }
   },
   "source": [
    "## 🤔 Défis spécifiques au mélanome\n",
    "\n",
    "- Cellules de mélanome mimétiques imitant d'autres types cellulaires\n",
    "- Modèles génériques (HoverNet sur PanNuke) : performance sous-optimale\n",
    "- Confusion fréquente entre cellules tumorales/lymphocytes/stromales\n",
    "\n",
    "→ Nécessité d'un modèle spécifique au mélanome"
   ]
  },
  {
   "cell_type": "markdown",
   "id": "c383ce95",
   "metadata": {
    "slideshow": {
     "slide_type": "notes"
    }
   },
   "source": [
    "L'analyse histopathologique du mélanome présente des défis spécifiques qui compliquent l'application des modèles d'IA existants :\n",
    "\n",
    "1. Les cellules de mélanome ont une capacité unique à imiter morphologiquement d'autres types cellulaires, rendant leur identification automatique particulièrement difficile.\n",
    "\n",
    "2. Les modèles génériques comme HoverNet, même lorsqu'ils sont pré-entraînés sur des datasets comme PanNuke (qui inclut des échantillons de peau), montrent des performances sous-optimales sur les images de mélanome.\n",
    "\n",
    "3. Ces modèles confondent fréquemment les cellules tumorales avec des lymphocytes ou des cellules stromales, compromettant ainsi l'évaluation précise des TILs.\n",
    "\n",
    "4. Les méthodes manuelles actuelles souffrent également d'une grande variabilité dans l'évaluation de la localisation des TILs (intratumorale vs péritumorale), qui est pourtant cruciale pour évaluer leur valeur pronostique.\n",
    "\n",
    "Ces défis justifient le développement d'un modèle spécifiquement adapté au mélanome, entraîné sur des données annotées de haute qualité."
   ]
  },
  {
   "cell_type": "markdown",
   "id": "1816bcb7",
   "metadata": {
    "slideshow": {
     "slide_type": "subslide"
    }
   },
   "source": [
    "## 📊 Jeu de données (PUMA)\n",
    "\n",
    "- Régions tumorales \n",
    "  - 155 mélanomes primaires\n",
    "  - 155 mélanomes métastatiques\n",
    "  - Images TIFF H&E à 40x (1024×1024 pixels)\n",
    "- Annotations de zones en GeoJSON validées par un dermato-pathologiste :\n",
    "  - Noyaux :\n",
    "    - Zone : polygone\n",
    "    - Classe : tumeur, lymphocytes, plasmocytes ... (10 classes)\n",
    "  - Tissus : tumeur, stroma, épiderme, vaisseaux sanguins ... (5 classes)\n",
    "    - Zone : polygone(s)\n",
    "    - Classe : tumeur, épiderme, vaisseaux sanguins ... (5 classes)"
   ]
  },
  {
   "cell_type": "markdown",
   "id": "dd3bc267",
   "metadata": {
    "slideshow": {
     "slide_type": "notes"
    }
   },
   "source": [
    "Le dataset PUMA (Panoptic segmentation of nUclei and tissue in MelanomA) constitue la première base de données spécifique au mélanome pour la segmentation panoptique des noyaux cellulaires et des tissus :\n",
    "\n",
    "- Il comprend 155 régions d'intérêt (ROIs) de mélanomes primaires et 155 de mélanomes métastatiques, offrant ainsi un échantillonnage représentatif de la diversité morphologique de cette pathologie.\n",
    "\n",
    "- Les images sont des coupes histologiques colorées à l'hématoxyline et à l'éosine (H&E), numérisées à un grossissement de 40x avec une résolution de 1024×1024 pixels.\n",
    "\n",
    "- Chaque ROI est accompagnée d'une ROI contextuelle de 5120×5120 pixels centrée autour d'elle, permettant d'analyser l'environnement tissulaire plus large.\n",
    "\n",
    "- Les annotations des noyaux cellulaires identifient 10 types distincts : tumeur, lymphocytes, plasmocytes, histiocytes, mélanophages, neutrophiles, cellules stromales, épithélium, endothélium et cellules apoptotiques.\n",
    "\n",
    "- Les annotations tissulaires comprennent 5 catégories : tumeur, stroma, épithélium, vaisseaux sanguins et zones nécrotiques.\n",
    "\n",
    "- Toutes les annotations ont été réalisées par un professionnel médical et vérifiées par un dermato-pathologiste certifié, garantissant leur qualité et leur pertinence clinique.\n",
    "\n",
    "Ce jeu de données unique permet de développer et d'évaluer des modèles spécifiques au mélanome avec un niveau de granularité sans précédent."
   ]
  },
  {
   "cell_type": "markdown",
   "id": "05b8dbc0",
   "metadata": {
    "slideshow": {
     "slide_type": "subslide"
    }
   },
   "source": [
    "## 🖼️ Jeu de données (PUMA)\n",
    "\n",
    "![./images/6f3736bd-a0f5-42a7-8d54-98852b7e6af1.png](./images/6f3736bd-a0f5-42a7-8d54-98852b7e6af1.png)"
   ]
  },
  {
   "cell_type": "markdown",
   "id": "29c04361",
   "metadata": {
    "slideshow": {
     "slide_type": "subslide"
    }
   },
   "source": [
    "## 🎯 Principe\n",
    "\n",
    "Il y a 2 tâches : \n",
    "\n",
    "1. Noyaux cellulaires\n",
    "   1. Segmentation\n",
    "   2. Classification (10 classes)\n",
    "2. Segmentation des tissus\n",
    "   1. Segmentation\n",
    "   2. Classification (5 classes)"
   ]
  },
  {
   "cell_type": "markdown",
   "id": "d6a93ef9",
   "metadata": {
    "slideshow": {
     "slide_type": "notes"
    }
   },
   "source": [
    "Pour permettre le diagnostic et le pronostic du mélanome, il est essentiel de segmenter et classifier les noyaux cellulaires et les tissus dans les images histopathologiques.\n",
    "\n",
    "Il s'agit de deux tâches de segmentation panoptique, où chaque pixel d'une image est classé en fonction de son appartenance à une catégorie spécifique.\n",
    "\n",
    "Attention, il faut bien faire la différence entre la segmentation panoptique et la segmentation sémantique. \n",
    "\n",
    "La segmentation panoptique consiste à segmenter chaque pixel d'une image en lui attribuant une étiquette de classe, tout en tenant compte de la hiérarchie des objets présents dans l'image. En revanche, la segmentation sémantique se concentre uniquement sur l'attribution d'étiquettes de classe aux pixels, sans tenir compte de la hiérarchie ou des relations entre les objets.\n",
    "\n",
    "Ainsi, il à la fois une tâche de segmentation sémantique (identifier les classes) et une tâche de détection d'objets (identifier les instances).\n",
    "\n",
    "Il faut donc 2 modèles : un pour la segmentation des noyaux et un pour la segmentation des tissus."
   ]
  },
  {
   "cell_type": "markdown",
   "id": "36f1b68e",
   "metadata": {
    "slideshow": {
     "slide_type": "slide"
    }
   },
   "source": [
    "# 2. 🛠️ Méthodologie"
   ]
  },
  {
   "cell_type": "markdown",
   "id": "4191ae50",
   "metadata": {},
   "source": [
    "1. État de l'art \n",
    "2. Prétraitement\n",
    "3. Entraînement\n",
    "4. Évaluation\n",
    "5. Interprétation"
   ]
  },
  {
   "cell_type": "markdown",
   "id": "8f9e40da",
   "metadata": {
    "slideshow": {
     "slide_type": "notes"
    }
   },
   "source": [
    "La méthodologie de ce projet se décline en plusieurs étapes clés :\n",
    "\n",
    "1. **État de l'art** : Analyse des méthodes existantes pour la segmentation et la classification des noyaux cellulaires et des tissus dans les images histopathologiques, en mettant l'accent sur les défis spécifiques au mélanome. Cette étape est réalisée en consultant la littérature scientifique et également en demandant à ChatGPT de faire une revue de la littérature sur le sujet.\n",
    "2. **Prétraitement** : Préparation des données, y compris la normalisation des images, l'augmentation des données et la création de masques d'annotation pour les noyaux et les tissus.\n",
    "3. **Entraînement** : Entraînement du modèle sur le jeu de données PUMA, en utilisant des techniques d'optimisation et de régularisation pour améliorer la performance.\n",
    "4. **Évaluation** : Évaluation des performances du modèle sur un ensemble de test indépendant, en utilisant des métriques appropriées pour la segmentation et la classification.\n",
    "5. **Interprétation** : Analyse des résultats obtenus, identification des forces et des faiblesses du modèle, et discussion des implications cliniques potentielles."
   ]
  },
  {
   "cell_type": "markdown",
   "id": "305fad9c",
   "metadata": {
    "slideshow": {
     "slide_type": "slide"
    }
   },
   "source": [
    "# 3. 💻 Projet"
   ]
  },
  {
   "cell_type": "markdown",
   "id": "131ad6f0",
   "metadata": {},
   "source": [
    "Nous avons essayé les modèles suivants :\n",
    "- Segmentation et classification des noyaux :\n",
    "  - CellVit++\n",
    "- Segmentation et classification des tissus :\n",
    "  - HoVer-Net\n",
    "  - nnU-Net"
   ]
  },
  {
   "cell_type": "markdown",
   "id": "07f29709",
   "metadata": {
    "slideshow": {
     "slide_type": "subslide"
    }
   },
   "source": [
    "## 🌐 HoVer-Net\n",
    "\n",
    "Architecture multi-branche :\n",
    "\n",
    "```mermaid\n",
    "graph TD\n",
    "    Entrée[📥 Entrée] -->|🖼️ Image| B[\"🧠 Encodeur (Ex: ResNet50)\"]\n",
    "    B -->|🔢 Vecteur| C1[🔲 Segmentation binaire]\n",
    "    B -->|🔢 Vecteur| C2[\"↔️ Cartes HoVer (H & V)\"]\n",
    "    B -->|🔢 Vecteur| C3[🏷️ Classification des noyaux]\n",
    "\n",
    "    C1 --> D1[🟣 Carte de segmentation]\n",
    "    C2 --> D2[\"🔵 Carte horizontale (H)\"]\n",
    "    C2 --> D3[\"🟢 Carte verticale (V)\"]\n",
    "    C3 --> D4[🟡 Carte de classification]\n",
    "\n",
    "    D1 & D2 & D3 --> E[🧩 Identifier les instances de noyaux]\n",
    "    D4 & E -->|Noyaux segmentés et classifiés| Sortie[📤 Sortie]\n",
    "```\n"
   ]
  },
  {
   "cell_type": "markdown",
   "id": "2b78aa0b",
   "metadata": {
    "slideshow": {
     "slide_type": "subslide"
    }
   },
   "source": [
    "## ✨ CellVit++\n",
    "\n",
    "```mermaid\n",
    "flowchart LR\n",
    "    Entrée[📥 Entrée] -->|📷 Image| Transformer[🧠 Vision Transformer ]\n",
    "    Transformer -->|🔢 Vecteur| Classifieur[🎯 Classifieur léger]\n",
    "    Classifieur -->|Segmentation + classification| Sortie[📤 Sortie]\n",
    "```"
   ]
  },
  {
   "cell_type": "markdown",
   "id": "07210509",
   "metadata": {
    "slideshow": {
     "slide_type": "subslide"
    }
   },
   "source": [
    "## ✨ CellVit++\n",
    "\n",
    "Avantanges : \n",
    "\n",
    "- ⚡ Adaptabilité : on ne réentraîne que le classifieur (pas le modèle entier)\n",
    "- 🧪 Génération automatique d’un dataset via images IF (CD3, CD20, etc.) + CellViT++\n",
    "- Performance EDLA sur 7 jeux de données, même en **zero-shot**\n",
    "- Comparable aux méthodes lourdes (HoVer-Net, SoftCTM)\n",
    "- Jusqu'à **90 % de temps de calcul en moins**\n",
    "- Classifieur entraîné en **< 2 min**\n",
    "- 🖥️ Interface web interactive (annotation, AutoML)\n"
   ]
  },
  {
   "cell_type": "markdown",
   "id": "bb0c9d82",
   "metadata": {
    "slideshow": {
     "slide_type": "notes"
    }
   },
   "source": [
    "\n",
    "1. **Architecture de base**  \n",
    "   - **Encodeur** : un Vision Transformer pré-entraîné (“foundation model” comme HIPT256, UNI, Virchow, SAM-H) qui extrait des « tokens » (vecteurs d’embedding) correspondant à des régions locales de l’image.  \n",
    "   - **Tête de segmentation** : génère directement un masque instance-par-instance pour chaque noyau/cellule, en parallèle de l’extraction des embeddings, sans coût computationnel supplémentaire .\n",
    "\n",
    "2. **Extraction et utilisation des embeddings**  \n",
    "   - À chaque position où une cellule est détectée, on récupère le token du dernier bloc du Transformer (« cell embedding »).  \n",
    "   - Ces embeddings, riches en information morphologique et texturale, servent de **base pour la classification** des cellules, sans avoir à recouper ou recadrer manuellement chaque cellule.\n",
    "\n",
    "3. **Module de classification léger et adaptatif**  \n",
    "   - **Structure** : un petit réseau (une couche cachée + activation ReLU) prend en entrée les embeddings et prédit le type cellulaire (ex : lymphocyte, épithéliale, mitotique, etc.).  \n",
    "   - **Avantage** : pour un nouveau jeu de classes, seule cette tête de classification est réentraînée sur un petit jeu de données (quelques centaines à milliers d’exemples), laissant l’encodeur et la tête de segmentation inchangés.  \n",
    "   - **Bénéfices** :  \n",
    "     - **Zéro-shot** sur nouveaux types de cellules (très bonne segmentation d’emblée).  \n",
    "     - **Training light** : quelques minutes, faible empreinte carbone.  \n",
    "     - **Haute data-efficience** : performances SOTA même avec 5–25 % des données classiques .\n",
    "\n",
    "4. **Workflow et outils associés**  \n",
    "   - **Génération automatique de jeux de données** via couplage H&E + immunofluorescence (IF) :  \n",
    "     - Enregistrer un masque binaire IF pour cibler une population cellulaire (ex : CD3 pour lymphocytes).  \n",
    "     - Aligner (registration) H&E ↔ IF, segmenter avec CellViT++, puis transférer les labels.  \n",
    "     - Permet de créer de larges jeux de données sans annotation manuelle coûteuse .  \n",
    "   - **Interface web** pour visualisation, annotation et réentraînement “in the loop” avec un module AutoML intégré, accessible sans infra HPC.\n"
   ]
  },
  {
   "cell_type": "markdown",
   "id": "62162eee",
   "metadata": {
    "slideshow": {
     "slide_type": "subslide"
    }
   },
   "source": [
    "### Sweep Run\n",
    "\n",
    "![./images/sweep.png](./images/sweep.png)"
   ]
  },
  {
   "cell_type": "markdown",
   "id": "4fdb82d7",
   "metadata": {
    "slideshow": {
     "slide_type": "notes"
    }
   },
   "source": [
    "Avant d'entraîner le modèle final, on a utilisé **Weights & Biases Sweep** pour explorer automatiquement différentes combinaisons d’hyperparamètres. Cette étape est cruciale pour identifier les réglages les plus performants sans avoir à les tester manuellement un par un.\n",
    "\n",
    "Le sweep a permis de tester plusieurs valeurs pour des paramètres comme le taux d’apprentissage, la taille du batch, les coefficients de régularisation, ou encore les paramètres spécifiques à l’optimiseur. Chaque configuration a été évaluée selon des métriques de validation (AUROC, F1-Score, etc.), et Wandb a automatiquement sélectionné les runs les plus prometteurs.\n",
    "\n",
    "Grâce à ce processus, j’ai pu **trouver une combinaison d’hyperparamètres optimale**, qui a ensuite été utilisée pour entraîner le modèle final, dont les performances sont présentées dans les graphiques précédents. Cela garantit une meilleure efficacité d’apprentissage et une généralisation plus robuste."
   ]
  },
  {
   "cell_type": "markdown",
   "id": "30596925",
   "metadata": {
    "slideshow": {
     "slide_type": "subslide"
    }
   },
   "source": [
    "### Hyperparamètres\n",
    "\n",
    "![./images/resultats_sweep.png](./images/resultats_sweep.png)"
   ]
  },
  {
   "cell_type": "markdown",
   "id": "14ae6887",
   "metadata": {
    "slideshow": {
     "slide_type": "notes"
    }
   },
   "source": [
    "Sur cette slide, nous analysons les performances de notre modèle à travers un sweep d’hyperparamètres, avec comme métrique principale l’AUROC sur le jeu de validation.\n",
    "- **Graphique en haut à gauche** : Évolution de l’AUROC au fil du temps. On observe une progression globale, avec une stabilisation autour de **0.930 à 0.934**, ce qui indique une convergence vers des combinaisons efficaces.\n",
    "- **Encart à droite** : Importance des hyperparamètres par rapport à l’AUROC. Les plus influents sont :\n",
    "    - model.hidden_dim (taille des couches cachées),\n",
    "    - training.optimizer.lr (taux d’apprentissage),\n",
    "    - training.drop_rate (taux de dropout).\n",
    "        \n",
    "On note une **corrélation positive du hidden_dim** et du **dropout**, et une **corrélation négative pour le learning_rate**, indiquant qu’un taux trop élevé dégrade la performance.\n",
    "        \n",
    "- **Graphique en bas** : Visualisation parallèle des hyperparamètres. Chaque ligne correspond à un essai, colorée selon la valeur de l’AUROC.\n",
    "    - Les lignes les plus claires (meilleurs scores) se regroupent autour de certaines plages :\n",
    "        - hidden_dim autour de 300-450,\n",
    "        - drop_rate entre 0.2 et 0.4,\n",
    "        - learning_rate entre 2e-5 et 5e-5.\n",
    "\n",
    "**Le sweep a permis d’identifier une configuration optimale et de mieux comprendre l’influence de chaque paramètre sur la performance du modèle.\n"
   ]
  },
  {
   "cell_type": "markdown",
   "id": "afb564ca",
   "metadata": {
    "slideshow": {
     "slide_type": "subslide"
    }
   },
   "source": [
    "## 🚀 nnU-Net\n",
    "\n",
    "- Même structure que U-Net classique.\n",
    "- Ajustements minimes :  \n",
    "  - **Leaky ReLU** à la place du **ReLU**  \n",
    "  - Instance Normalization au lieu de BatchNorm  \n",
    "- Tout se joue dans le **pipeline automatique** :  \n",
    "  - pré-traitement,  \n",
    "  - entraînement,  \n",
    "  - inférence,  \n",
    "  - post-traitement."
   ]
  },
  {
   "cell_type": "markdown",
   "id": "ef30b706",
   "metadata": {
    "slideshow": {
     "slide_type": "subslide"
    }
   },
   "source": [
    "## 🚀 U-Net\n",
    "\n",
    "1. **Chemin de contraction**\n",
    "   - Séries de blocs : (Conv 3×3 → ReLU) ×2 → MaxPool 2×2  \n",
    "   - À chaque pooling, on double le nombre de canaux.  \n",
    "2. **Chemin d'expansion**\n",
    "   - Up-convolution 2×2 (halving des canaux)  \n",
    "   - **Skip connection** : concatène la carte de la couche correspondante du contratant  \n",
    "   - (Conv 3×3 → ReLU) ×2  \n",
    "3. **Sortie**  \n",
    "   - Conv 1×1 : Carte de segmentation pixel-wise  \n",
    "4. **Tiling & overlap-tile strategy** pour traiter de grandes images\n",
    "\n",
    "Le U-Net capture à la fois le contexte global (contracting) et la localisation fine (expansive).\n"
   ]
  },
  {
   "cell_type": "markdown",
   "id": "de764513",
   "metadata": {
    "slideshow": {
     "slide_type": "subslide"
    }
   },
   "source": [
    "## 🚀 nnU-Net\n",
    "\n",
    "Avantages :\n",
    "\n",
    "✅ nnU-Net = pipeline automatique, pas de nouvelle architecture  \n",
    "✅ Généralise très bien à des cas variés  \n",
    "✅ Montre que le **contexte d'entraînement** est souvent plus critique que l’architecture elle-même\n",
    "\n",
    "🧪 Idéal pour benchmark, pré-entraînement, ou compétition"
   ]
  },
  {
   "cell_type": "markdown",
   "id": "0f38a564",
   "metadata": {
    "slideshow": {
     "slide_type": "slide"
    }
   },
   "source": [
    "# 4. 📈 Résultats"
   ]
  },
  {
   "cell_type": "markdown",
   "id": "490d55d1",
   "metadata": {
    "slideshow": {
     "slide_type": "subslide"
    }
   },
   "source": [
    "## ✨ CellVit++\n",
    "\n",
    "![./images/best_run.png](./images/best_run.png)"
   ]
  },
  {
   "cell_type": "markdown",
   "id": "c77838b5",
   "metadata": {
    "slideshow": {
     "slide_type": "notes"
    }
   },
   "source": [
    "Voici l’évolution des principales métriques pour notre modèle CellViT-SAM-H sur 50 étapes d'entraînement. On observe d’abord une baisse régulière de la perte d'entraînement, signe que le modèle apprend efficacement à partir des données.\n",
    "\n",
    "Du côté de la validation, la perte diminue nettement au début puis se stabilise, avec une légère hausse après l’étape 10, ce qui indique un début de surapprentissage. Malgré cela, les métriques de performance restent très solides : l’AUROC dépasse 0.93, ce qui montre une très bonne capacité à distinguer les classes. Le F1-Score se stabilise autour de 0.767, ce qui traduit un bon équilibre entre précision et rappel. Enfin, la précision moyenne (Average Precision) progresse rapidement avant de se stabiliser autour de 0.445, ce qui reste un très bon score pour ce type de tâche.\n",
    "\n",
    "En résumé, le modèle montre une excellente capacité d’apprentissage et de généralisation, avec un léger surapprentissage à surveiller. Un arrêt anticipé de l'entraînement autour de l’étape 15 à 20 pourrait permettre d’optimiser encore davantage la performance sur données de validation."
   ]
  },
  {
   "cell_type": "markdown",
   "id": "b60a18d4",
   "metadata": {
    "slideshow": {
     "slide_type": "subslide"
    }
   },
   "source": [
    "## 🌐 HoVer-Net"
   ]
  },
  {
   "cell_type": "markdown",
   "id": "c296a785",
   "metadata": {
    "slideshow": {
     "slide_type": "subslide"
    }
   },
   "source": [
    "## 🚀 nnU-Net\n",
    "\n",
    "Impossible de lancer un apprentissage : \n",
    "  - Environnement incompatible ?\n",
    "  - Dépendances ?\n",
    "\n",
    "Dépannage compliqué car aucun message d'erreur (processus bloqué).\n",
    "\n",
    "```sh\n",
    "Date: Tue Apr 29 12:41:03 PM CEST 2025\n",
    "Noeud: juliet4\n",
    "Job ID: 22392\n",
    "Partition: mesonet\n",
    "Compte: m25031\n",
    "GPUs alloués: 0\n",
    "nnUNet_preprocessed set to: /home/alanneraud/Deep_learning_project/nnunet/nnUNet_preprocessed\n",
    "nnUNet_raw set to: /home/alanneraud/Deep_learning_project/nnunet/nnUNet_raw\n",
    "nnUNet_results set to: /home/alanneraud/Deep_learning_project/nnunet/nnUNet_results\n",
    "Activation de l'environnement uv: /home/alanneraud/Deep_learning_project/nnunet/.venv\n",
    "Python 3.10.17\n",
    "PyTorch et nnUNet (avec trainer custom) sont supposés être installés dans l'environnement uv.\n",
    "Vérification de la disponibilité du GPU via PyTorch...\n",
    "PyTorch version: 2.7.0+cu126\n",
    "CUDA available: True\n",
    "Device count: 1\n",
    "Current device: 0\n",
    "Device name: NVIDIA A100-SXM4-80GB\n",
    "Fin de la vérification PyTorch GPU.\n",
    "Étape 5: Lancement du pré-entraînement (Task 2 - NSCLC) avec nnUNetTrainerIgnoreIndex et plans nnUNetPlans_pretrain...\n",
    "```"
   ]
  },
  {
   "cell_type": "markdown",
   "id": "b7115dc7",
   "metadata": {
    "slideshow": {
     "slide_type": "notes"
    }
   },
   "source": [
    "Concernant l’entraînement de nnU-Net, il nous a été impossible de lancer un entraînement car il se mettait à freeze."
   ]
  },
  {
   "cell_type": "markdown",
   "id": "fdb74dc8",
   "metadata": {
    "slideshow": {
     "slide_type": "slide"
    }
   },
   "source": [
    "# 5. ✅ Conclusion"
   ]
  },
  {
   "cell_type": "markdown",
   "id": "f7bfd1b6",
   "metadata": {
    "slideshow": {
     "slide_type": "subslide"
    }
   },
   "source": [
    "## 🤔 Critique\n",
    "\n",
    "- **Occupation des nœuds :**\n",
    "  - Queue d'attente importante\n",
    "  - Plantage partiel de `juliet2` et `juliet4`\n",
    "- **Qualité de l'implémentation des modèles :**\n",
    "  - Gestion insuffisante des erreurs.\n",
    "  - Manque de clarté et de robustesse du code.\n",
    "- **Stabilité et dépendances des modèles :**\n",
    "  - Difficultés liées à la gestion des versions des librairies.\n",
    "  - Instabilité potentielle des environnements d'exécution.\n",
    "- **Maintenance et support des modèles :**\n",
    "  - Peu de suivi des problèmes signalés (issues).\n",
    "  - Manque de réactivité sur les contributions (pull requests)."
   ]
  },
  {
   "cell_type": "markdown",
   "id": "36add7c4",
   "metadata": {
    "slideshow": {
     "slide_type": "notes"
    }
   },
   "source": [
    "Au cours de ce projet, l'exploitation des modèles existants a présenté plusieurs défis.\n",
    "\n",
    "1. la gestion des ressources informatiques a été problématique. La queue d'attente pour accéder aux nœuds de calcul était souvent longue, ce qui a entraîné des retards dans le démarrage des expériences. De plus, le nœud `juliet2` a rencontré des problèmes de stabilité, il était impossible d'utiliser les ressources graphiques sur ce dernier, tandis que le nœud `juliet4` a été partiellement bloqué par une tâche qui ne se termine jamais.\n",
    "\n",
    "2. La qualité de l'implémentation de certains outils s'est avérée perfectible. Par exemple, une gestion limitée des exceptions a entraîné des arrêts inattendus du programme, parfois sans message d'erreur explicite, compliquant le débogage.\n",
    "\n",
    "3. La stabilité des modèles a été affectée par une gestion imprécise des dépendances. Il a fallu tester itérativement différentes versions de librairies pour assurer la compatibilité et le bon fonctionnement, ce qui a ralenti le processus de développement.\n",
    "\n",
    "4. Le manque de maintenance active et de support communautaire pour certains des outils utilisés a été un frein. Les problèmes signalés par la communauté (issues GitHub) restent souvent sans réponse, et les propositions d'amélioration (pull requests) ne sont pas intégrées, ce qui soulève des questions sur la pérennité et la fiabilité à long terme de ces outils."
   ]
  },
  {
   "cell_type": "markdown",
   "id": "e7ff22e3",
   "metadata": {
    "slideshow": {
     "slide_type": "subslide"
    }
   },
   "source": [
    "## 🌍 Impact\n",
    "\n",
    "- **Environnemental :**\n",
    "  - Fabrication des puces\n",
    "  - Consommation énergétique\n",
    "\n",
    "- **Politique :** \n",
    "  - Indépendance sur la fabrication des machines de lithographie \n",
    "  - Dépendance à l'égard de Taïwan (TSMC) pour la fabrication des puces\n",
    "  - Dépendance à l'égard de la Chine pour les terres rares\n",
    "  - Dépendance à l'égard des États-Unis pour les logiciels et les licences (ROCm et CUDA)\n",
    "\n",
    "- **Sociétal :**\n",
    "  - Amélioration du diagnostic/pronostic\n",
    "  - Optimisation du flux de travail\n",
    "  - Aide à la décision thérapeutique\n",
    "  - Potentiel de réduction des coûts"
   ]
  },
  {
   "cell_type": "markdown",
   "id": "57807bd1",
   "metadata": {
    "slideshow": {
     "slide_type": "notes"
    }
   },
   "source": [
    "Enfin, abordons l'impact de ce type de projet et des technologies sous-jacentes.\n",
    "\n",
    "Sur le plan **environnemental**, \n",
    "1. il faut considérer l'empreinte liée à la fabrication des puces électroniques. Cela inclut l'extraction et la purification de grandes quantités de silicium, issu du sable, pour créer les *wafers* sur lesquels sont gravées les puces mémoire (VRAM) et les processeurs graphiques (GPU). La fabrication des GPU est particulièrement gourmande : leurs *dies* (les puces individuelles) sont très larges, ce qui augmente le taux de perte lors de la découpe des *wafers*.\n",
    "2. À cela s'ajoute la consommation énergétique significative des usines de fabrication (*fabs*), des centres de données et des phases d'entraînement des modèles.\n",
    "\n",
    "D'un point de vue **politique et économique**, observons une forte dépendance géostratégique.\n",
    "1. La production des puces de pointe est concentrée à Taïwan avec TSMC.\n",
    "2. L'approvisionnement en terres rares, essentielles, dépend largement de la Chine.\n",
    "3. Les logiciels et écosystèmes comme CUDA ou ROCm sont majoritairement américains.\n",
    "4. Cependant, l'Europe détient un avantage stratégique majeur avec l'entreprise néerlandaise ASML, qui produit les machines de lithographie EUV (Extreme Ultraviolet) indispensables à la gravure des semi-conducteurs les plus avancés et utilisées par tous les grands fondeurs mondiaux.\n",
    "\n",
    "Cependant, l'impact le plus direct et positif se situe au niveau **clinique et sociétal**.\n",
    "1. Ces outils ont le potentiel d'améliorer significativement la précision et la reproductibilité du diagnostic et du pronostic du mélanome.\n",
    "2. Ils peuvent optimiser le flux de travail des pathologistes, leur permettant de se concentrer sur les cas les plus complexes.\n",
    "3. En fournissant une analyse plus fine, ils constituent une aide précieuse à la décision thérapeutique, notamment pour prédire la réponse à l'immunothérapie.\n",
    "4. À terme, cela pourrait même contribuer à une réduction des coûts de santé en évitant des traitements inefficaces."
   ]
  }
 ],
 "metadata": {
  "kernelspec": {
   "display_name": "Python (diaporama)",
   "language": "python",
   "name": "diaporama"
  },
  "language_info": {
   "codemirror_mode": {
    "name": "ipython",
    "version": 3
   },
   "file_extension": ".py",
   "mimetype": "text/x-python",
   "name": "python",
   "nbconvert_exporter": "python",
   "pygments_lexer": "ipython3",
   "version": "3.12.7"
  }
 },
 "nbformat": 4,
 "nbformat_minor": 5
}
