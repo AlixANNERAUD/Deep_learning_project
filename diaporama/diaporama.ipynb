{
 "cells": [
  {
   "cell_type": "markdown",
   "id": "3d0df8c5",
   "metadata": {},
   "source": [
    "# 🔬 Segmentation panoptique des noyaux et des tissus dans le mélanome avancé 🧬 \n",
    "\n",
    "## Alix ANNERAUD et Quentin BERAL"
   ]
  },
  {
   "cell_type": "markdown",
   "id": "9723314b",
   "metadata": {
    "slideshow": {
     "slide_type": "notes"
    }
   },
   "source": [
    "Quentin : \n",
    "\n",
    "Bonjour à tous,\n",
    "\n",
    "Nous allons vous présenter notre projet de deep learning sur la segmentation et classification des noyaux cellulaires dans le mélanome.\n",
    "\n",
    "Dans ce projet, nous avons travaillé sur l'application de méthodes et modèles de deep  sur la segmentation et classification des noyaux cellulaires et tissus dans les images histopathologiques du mélanome en utilisant des techniques de deep learning.\n",
    "\n",
    "Ce projet se base sur le concours PUMA organisé par le consortium de recherche sur le mélanome avancé, qui vise à améliorer les biomarqueurs pronostiques pour le mélanome avancé.\n",
    "\n",
    "Nous nous basons sur l'article scientifique : \"PUMA: A dataset for deep learning-based nuclei and tissue segmentation in advanced melanoma with improved biomarker potential\" publié dans GigaScience en 2024.\n",
    "\n",
    "Ce travail s'inscrit dans une démarche d'amélioration des biomarqueurs pronostiques pour le mélanome avancé."
   ]
  },
  {
   "cell_type": "markdown",
   "id": "795b0b7a",
   "metadata": {
    "slideshow": {
     "slide_type": "slide"
    }
   },
   "source": [
    "# 1. 📜 Contexte"
   ]
  },
  {
   "cell_type": "markdown",
   "id": "679a1d22",
   "metadata": {
    "slideshow": {
     "slide_type": "subslide"
    }
   },
   "source": [
    "## 🩺 Problématique\n",
    "\n",
    "- 🏆 Compétition : PUMA\n",
    "- 🦠 Mélanome : cancer agressif de la peau en augmentation\n",
    "- ❌ 50% des patients ne répondent pas à l'immunothérapie\n",
    "- Les lymphocytes & plasmas infiltrant la tumeur (TILs) : biomarqueur pronostique clé\n",
    "- ❌ Limites actuelles :\n",
    "  - Évaluation manuelle subjective et variable\n",
    "  - Confusion fréquente entre cellules tumorales/lymphocytes/stromales\n",
    "  - 🧫 Cellules de mélanome mimétiques imitant d'autres types cellulaires\n",
    "  - 🤖 Modèles génériques (HoverNet sur PanNuke) : performance sous-optimale"
   ]
  },
  {
   "cell_type": "markdown",
   "id": "7f3ae1c2",
   "metadata": {
    "slideshow": {
     "slide_type": "notes"
    }
   },
   "source": [
    "Alix :\n",
    "\n",
    "1. Pourquoi : \n",
    "    - Passé beaucoup de temps à trouver un sujet qui nous intéresse et qui est pertinent \n",
    "    - Beaucoup de sujets sont déjà traités, vu et revu : difficile d'être innovant\n",
    "    - Niche : parfait car une grande liberté d'exploration\n",
    "    - Très intéressant ouche à la lutte contre le cancer : un sujet très important.\n",
    "\n",
    "2. Le mélanome : \n",
    "   1. forme agressive de cancer cutané \n",
    "   2. l'incidence augmente.\n",
    "\n",
    "3. Traitement\n",
    "   1. primaire : souvent traité par excision chirurgicale\n",
    "   2. métastatique nécessite une immunothérapie.\n",
    "\n",
    "4. Malheureusement : 1/2 des patients ne répondent pas à cette thérapie, qui est coûteuse et potentiellement toxique.\n",
    "\n",
    "5. Biomarqueurs pronostiques : lymphocytes et plasma infiltrant la tumeur (TILs) => aider à prédire la réponse au traitement.\n",
    "   \n",
    "6. Evaluation manuelle \n",
    "   1. subjective\n",
    "   2. chronophage \n",
    "   3. variabilité inter-observateurs considérable.\n",
    "\n",
    "Limitations motivent le développement d'approches automatisées basées sur du machine/deep learning pour quantifier et caractériser les TILs de manière plus objective et reproductible."
   ]
  },
  {
   "cell_type": "markdown",
   "id": "1816bcb7",
   "metadata": {
    "slideshow": {
     "slide_type": "subslide"
    }
   },
   "source": [
    "## 📊 Jeu de données (PUMA)\n",
    "\n",
    "- Images de **microscope** x40 (1024×1024 pixels) de **régions tumorale** :\n",
    "  - 155 mélanomes primaires\n",
    "  - 155 mélanomes métastatiques\n",
    "- Images contextuelles de **microscope** x40 (5120x5120 pixels)\n",
    "- **Annotations** de zones en GeoJSON validées par un dermato-pathologiste :\n",
    "  - Noyaux :\n",
    "    - Zone : polygone\n",
    "    - Classe : tumeur, lymphocytes, plasmocytes ... (10 classes)\n",
    "  - Tissus :\n",
    "    - Zone : polygone(s)\n",
    "    - Classe : tumeur, épiderme, vaisseaux sanguins ... (5 classes)"
   ]
  },
  {
   "cell_type": "markdown",
   "id": "dd3bc267",
   "metadata": {
    "slideshow": {
     "slide_type": "notes"
    }
   },
   "source": [
    "Alix :\n",
    "\n",
    "Le jeu de données : 1ere BD spécifique au mélanome pour la segmentation panoptique des noyaux cellulaires et des tissus :\n",
    "\n",
    "- Il comprend 155 régions d'intérêt de mélanomes primaires et 155 de mélanomes métastatiques, offrant ainsi un échantillonnage représentatif de la diversité morphologique de cette pathologie.\n",
    "\n",
    "- Les images sont des coupes/lames colorées numérisées à un grossissement de 40x avec une résolution de 1024×1024 pixels.\n",
    "\n",
    "- Chaque ROI est accompagnée d'une ROI contextuelle de 5120×5120 pixels centrée autour d'elle, permettant d'analyser l'environnement tissulaire plus large.\n",
    "\n",
    "- Les annotations des noyaux cellulaires identifient 10 types distincts : tumeur, lymphocytes, plasmocytes, histiocytes, mélanophages, neutrophiles, cellules stromales, épithélium, endothélium et cellules apoptotiques.\n",
    "\n",
    "- Les annotations tissulaires comprennent 5 catégories : tumeur, stroma, épithélium, vaisseaux sanguins et zones nécrotiques.\n",
    "\n",
    "- Toutes les annotations ont été réalisées par un professionnel médical et vérifiées par un dermato-pathologiste certifié, garantissant leur qualité et leur pertinence clinique.\n",
    "\n",
    "Ce jeu de données unique permet de développer et d'évaluer des modèles spécifiques au mélanome avec un niveau de granularité sans précédent."
   ]
  },
  {
   "cell_type": "markdown",
   "id": "91ab7edf",
   "metadata": {
    "slideshow": {
     "slide_type": "subslide"
    }
   },
   "source": [
    "## 🖼️ Jeu de données (PUMA)\n",
    "\n",
    "![./images/d4b50cb2-a768-446b-abd3-049f6438d1c0.png](./images/d4b50cb2-a768-446b-abd3-049f6438d1c0.png)"
   ]
  },
  {
   "cell_type": "markdown",
   "id": "7c7b3110",
   "metadata": {},
   "source": [
    "Alix : \n",
    "\n",
    "Cette image représente un exemple d'une région d'intérêt (ROI) du jeu de données PUMA avec ses annotations. On peut y observer une coupe, avec en superposition les annotations manuelles validées.\n",
    "\n",
    "Sur cette image, nous pouvons distinguer différentes régions tissulaires identifiées par des contours colorés, ainsi que les noyaux cellulaires individuels annotés. Les noyaux sont classifiés selon leur type cellulaire (tumeur, lymphocytes, etc.), chacun étant représenté par une couleur spécifique.\n",
    "\n",
    "Cette annotation précise et détaillée permet d'entraîner des modèles de segmentation panoptique capables à la fois d'identifier les régions tissulaires et de détecter/classifier les noyaux cellulaires individuels, ce qui est essentiel pour l'analyse quantitative des TILs et d'autres biomarqueurs cellulaires dans le mélanome."
   ]
  },
  {
   "cell_type": "markdown",
   "id": "05b8dbc0",
   "metadata": {
    "slideshow": {
     "slide_type": "subslide"
    }
   },
   "source": [
    "## 🖼️ Jeu de données (PUMA)\n",
    "\n",
    "![./images/6f3736bd-a0f5-42a7-8d54-98852b7e6af1.png](./images/6f3736bd-a0f5-42a7-8d54-98852b7e6af1.png)"
   ]
  },
  {
   "cell_type": "markdown",
   "id": "acaa9589",
   "metadata": {
    "slideshow": {
     "slide_type": "notes"
    }
   },
   "source": [
    "Alix : \n",
    "    \n",
    "1. Classes de noyaux n'est pas équilibrée => il y a beaucoup plus de noyaux tumoraux que de lymphocytes, plasmocytes, etc. Cela est du au fait que nous nous concentrons sur des exemples de mélanome, qui sont des tumeurs. \n",
    "\n",
    "2. De plus, la représentativité des classes de noyaux sont du à des facteurs biologiques, par exemple, les cellules apoptotiques sont très rares, car elles sont en train de mourir (comme une étoile filancte), ce qui explique leur faible nombre dans le jeu de données."
   ]
  },
  {
   "cell_type": "markdown",
   "id": "6aad29a1",
   "metadata": {
    "slideshow": {
     "slide_type": "subslide"
    }
   },
   "source": [
    "## 🖼️ Jeu de données (PUMA)\n",
    "\n",
    "![./images/6f3736bd-a0f5-42a7-8d54-98852b7e6af1.png](./images/34b70ca9-06c8-4241-b2e6-5be0dc1ddc50.png)"
   ]
  },
  {
   "cell_type": "markdown",
   "id": "ed83bcea",
   "metadata": {
    "slideshow": {
     "slide_type": "notes"
    }
   },
   "source": [
    "Alix : \n",
    "    \n",
    "Idem pour les classes de tissus, il y a un déséquilibre entre les classes. Par exemple, il y a beaucoup plus de tissus tumoraux que de tissus épithéliaux ou vasculaires. \n",
    "\n",
    "Ainsi, ce déséquilibre entre les classes de noyaux et de tissus peut poser des problèmes lors de l'entraînement des modèles de deep learning, car ils peuvent avoir tendance à privilégier les classes majoritaires au détriment des classes minoritaires. Cela peut entraîner une mauvaise performance du modèle sur les classes moins représentées, ce qui est problématique pour une application clinique où chaque type cellulaire est important pour le diagnostic et le pronostic."
   ]
  },
  {
   "cell_type": "markdown",
   "id": "29c04361",
   "metadata": {
    "slideshow": {
     "slide_type": "subslide"
    }
   },
   "source": [
    "## 🎯 Principe\n",
    "\n",
    "Il y a 2 tâches : \n",
    "\n",
    "1. Noyaux cellulaires\n",
    "   1. Segmentation\n",
    "   2. Classification (10 classes)\n",
    "2. Segmentation des tissus\n",
    "   1. Segmentation\n",
    "   2. Classification (5 classes)"
   ]
  },
  {
   "cell_type": "markdown",
   "id": "d6a93ef9",
   "metadata": {
    "slideshow": {
     "slide_type": "notes"
    }
   },
   "source": [
    "Quentin : \n",
    "Pour analyser les images de mélanome, on doit identifier deux choses : les noyaux des cellules et les zones de tissu.\n",
    "\n",
    "Pour chaque pixel de l'image, on veut savoir :\n",
    "\n",
    "À quel type il appartient (ex: noyau cancéreux, tissu sain).\n",
    "À quel objet individuel il appartient (ex: ce noyau spécifique, cette zone de tissu précise).\n",
    "Faire les deux en même temps s'appelle la segmentation panoptique. C'est plus complet que de juste dire le type de chaque pixel (segmentation sémantique).\n",
    "\n",
    "Comme les noyaux (petits et nombreux) et les tissus (grandes zones) sont très différents, on utilise deux modèles distincts : un spécialisé pour les noyaux, l'autre pour les tissus."
   ]
  },
  {
   "cell_type": "markdown",
   "id": "36f1b68e",
   "metadata": {
    "slideshow": {
     "slide_type": "slide"
    }
   },
   "source": [
    "# 2. 🛠️ Méthodologie"
   ]
  },
  {
   "cell_type": "markdown",
   "id": "4191ae50",
   "metadata": {},
   "source": [
    "1. Compréhension du problème\n",
    "2. Analyse du dataset\n",
    "3. État de l'art \n",
    "4. Prétraitement\n",
    "5. Entraînement\n",
    "6. Évaluation\n",
    "7. Interprétation"
   ]
  },
  {
   "cell_type": "markdown",
   "id": "8f9e40da",
   "metadata": {
    "slideshow": {
     "slide_type": "notes"
    }
   },
   "source": [
    "Quentin : \n",
    "\n",
    "La méthodologie de ce projet se décline en plusieurs étapes clés :\n",
    "\n",
    "1. Compréhension de la problématique : Identification des enjeux cliniques et des défis spécifiques liés à la segmentation et à la classification des noyaux cellulaires et des tissus dans le mélanome avancé.\n",
    "2. Analyse du dataset : Exploration des caractéristiques du jeu de données PUMA, y compris la distribution des classes, la qualité des annotations et les défis liés à l'équilibre des classes.\n",
    "3. **État de l'art** : Analyse des méthodes existantes pour la segmentation et la classification des noyaux cellulaires et des tissus dans les images histopathologiques, en mettant l'accent sur les défis spécifiques au mélanome. Cette étape est réalisée en consultant la littérature scientifique et également en demandant à ChatGPT de faire une revue de la littérature sur le sujet.\n",
    "4. **Prétraitement** : Préparation des données, y compris la normalisation des images, l'augmentation des données et la création de masques d'annotation pour les noyaux et les tissus.\n",
    "5. **Entraînement** : Entraînement du modèle sur le jeu de données PUMA, en utilisant des techniques d'optimisation et de régularisation pour améliorer la performance.\n",
    "6. **Évaluation** : Évaluation des performances du modèle sur un ensemble de test indépendant, en utilisant des métriques appropriées pour la segmentation et la classification.\n",
    "7. **Interprétation** : Analyse des résultats obtenus, identification des forces et des faiblesses du modèle, et discussion des implications cliniques potentielles."
   ]
  },
  {
   "cell_type": "markdown",
   "id": "305fad9c",
   "metadata": {
    "slideshow": {
     "slide_type": "slide"
    }
   },
   "source": [
    "# 3. 💻 Projet"
   ]
  },
  {
   "cell_type": "markdown",
   "id": "131ad6f0",
   "metadata": {},
   "source": [
    "Nous avons essayé les modèles suivants :\n",
    "- Segmentation et classification des noyaux :\n",
    "  - CellVit++\n",
    "- Segmentation et classification des tissus :\n",
    "  - HoVer-Net\n",
    "  - nnU-Net"
   ]
  },
  {
   "cell_type": "markdown",
   "id": "8a956f03",
   "metadata": {
    "slideshow": {
     "slide_type": "notes"
    }
   },
   "source": [
    "Quentin : \n",
    "\n",
    "Pour analyser les images de mélanome, on a travaillé sur deux tâches : la segmentation et classification des noyaux cellulaires, et la segmentation des tissus.\n",
    "\n",
    "Pour les noyaux, on a choisi CellVit++, un modèle très performant basé sur une architecture Transformer. Il permet de segmenter et classer les noyaux dans un seul pipeline, en prenant en compte le contexte autour de chaque cellule. C’est ce qui se fait de mieux aujourd’hui dans ce domaine.\n",
    "\n",
    "Pour les tissus, on a testé deux approches complémentaires :\n",
    "    - HoVer-Net : un modèle très précis pour les noyaux, qui utilise des cartes de gradient pour bien séparer ceux qui se touchent, ce qui est utile dans les images très denses comme celles du mélanome.\n",
    "    - nnU-Net : un U-Net “intelligent” qui s’adapte automatiquement au jeu de données. Il configure tout seul le prétraitement, l’architecture, les paramètres… et donne souvent les meilleurs résultats en segmentation médicale.\n",
    "\n",
    "Notre but : comparer ces approches pour voir laquelle offre le meilleur compromis entre précision et temps de calcul, dans le contexte spécifique du mélanome."
   ]
  },
  {
   "cell_type": "markdown",
   "id": "2b78aa0b",
   "metadata": {
    "slideshow": {
     "slide_type": "subslide"
    }
   },
   "source": [
    "## ✨ CellVit++\n",
    "\n",
    "![](./images/network_large.png)"
   ]
  },
  {
   "cell_type": "markdown",
   "id": "f6cb8e22",
   "metadata": {
    "slideshow": {
     "slide_type": "notes"
    }
   },
   "source": [
    "Quentin : \n",
    "\n",
    "CellVit++, c’est un modèle innovant pour analyser les images de tissus biologiques, notamment pour détecter et classer les noyaux cellulaires dans le cas du mélanome.\n",
    "\t•\tIl utilise une architecture Transformer, différente des réseaux classiques. Au lieu de traiter l’image pixel par pixel, il la découpe en petits morceaux (patches) et analyse les relations entre eux. Cela permet de mieux comprendre l’organisation complexe des cellules.\n",
    "\t•\tIl tient compte du contexte autour de chaque cellule, ce qui l’aide à mieux différencier les types cellulaires, surtout dans un environnement tumoral très dense.\n",
    "\t•\tSon pipeline fonctionne en deux étapes : d’abord, il segmente précisément les contours de chaque noyau, puis il les classe en 10 catégories différentes.\n",
    "\t•\tGrâce au transfert d’apprentissage, il apprend d’abord sur de grandes bases d’images générales, puis se spécialise sur les cas de mélanome. Cela permet d’obtenir d’excellents résultats, même avec peu de données spécifiques.\n",
    "\n",
    "En résumé, CellVit++ est à la fois plus performant et plus rapide que d’autres modèles comme HoVer-Net."
   ]
  },
  {
   "cell_type": "markdown",
   "id": "07210509",
   "metadata": {
    "slideshow": {
     "slide_type": "subslide"
    }
   },
   "source": [
    "## ✨ CellVit++\n",
    "\n",
    "Points forts :\n",
    "\n",
    "- ⚡ Adaptabilité : on ne réentraîne que le classifieur (pas le modèle entier)\n",
    "- 🚀 Performance à l'état de l'art sur 7 jeux de données, même en **zero-shot**\n",
    "- ⚖️ Comparable aux méthodes lourdes (HoVer-Net, SoftCTM)\n",
    "- ✅ Jusqu'à **90 % de temps de calcul en moins**\n",
    "- ⚡ Classifieur entraîné en **< 2 min**\n",
    "- 🖥️ Interface web interactive (annotation, AutoML)\n"
   ]
  },
  {
   "cell_type": "markdown",
   "id": "bb0c9d82",
   "metadata": {
    "slideshow": {
     "slide_type": "notes"
    }
   },
   "source": [
    "Alix :\n",
    "\n",
    "CellVit++ présente plusieurs avantages notables :\n",
    "\n",
    "- **Adaptabilité** : Il permet de ne réentraîner que le classifieur, ce qui réduit considérablement le temps et les ressources nécessaires pour l'adapter à de nouveaux jeux de données.\n",
    "- **Performance à l'état de l'art** : Il a démontré des performances exceptionnelles sur 7 jeux de données différents, même dans des scénarios de \"zero-shot\", où le modèle n'a pas été spécifiquement entraîné sur ces données.\n",
    "- **Efficacité computationnelle** : Il est comparable aux méthodes lourdes comme HoVer-Net et SoftCTM, mais avec des temps de calcul réduits de jusqu'à 90 %.\n",
    "- **Rapidité d'entraînement** : Le classifieur peut être entraîné en moins de 2 minutes, ce qui est un atout majeur pour les chercheurs et cliniciens.\n",
    "- **Interface web interactive** : Il propose une interface conviviale pour l'annotation et l'AutoML, facilitant son utilisation par des professionnels de la santé et des chercheurs.\n"
   ]
  },
  {
   "cell_type": "markdown",
   "id": "62162eee",
   "metadata": {
    "slideshow": {
     "slide_type": "subslide"
    }
   },
   "source": [
    "### Sweep Run\n",
    "\n",
    "![./images/sweep.png](./images/sweep.png)"
   ]
  },
  {
   "cell_type": "markdown",
   "id": "4fdb82d7",
   "metadata": {
    "slideshow": {
     "slide_type": "notes"
    }
   },
   "source": [
    "Quentin : \n",
    "\n",
    "Avant d'entraîner le modèle final, on a utilisé **Weights & Biases Sweep** pour explorer automatiquement différentes combinaisons d’hyperparamètres. Cette étape est cruciale pour identifier les réglages les plus performants sans avoir à les tester manuellement un par un.\n",
    "\n",
    "Le sweep a permis de tester plusieurs valeurs pour des paramètres comme le taux d’apprentissage, la taille du batch, les coefficients de régularisation, ou encore les paramètres spécifiques à l’optimiseur. Chaque configuration a été évaluée selon des métriques de validation (AUROC, F1-Score, etc.), et Wandb a automatiquement sélectionné les runs les plus prometteurs.\n",
    "\n",
    "Grâce à ce processus, j’ai pu **trouver une combinaison d’hyperparamètres optimale**, qui a ensuite été utilisée pour entraîner le modèle final, dont les performances sont présentées dans les graphiques précédents. Cela garantit une meilleure efficacité d’apprentissage et une généralisation plus robuste."
   ]
  },
  {
   "cell_type": "markdown",
   "id": "30596925",
   "metadata": {
    "slideshow": {
     "slide_type": "subslide"
    }
   },
   "source": [
    "### Hyperparamètres\n",
    "\n",
    "![./images/resultats_sweep.png](./images/resultats_sweep.png)"
   ]
  },
  {
   "cell_type": "markdown",
   "id": "14ae6887",
   "metadata": {
    "slideshow": {
     "slide_type": "notes"
    }
   },
   "source": [
    "Alix : \n",
    "\n",
    "Sur cette slide, nous analysons les performances de notre modèle à travers un sweep d’hyperparamètres, avec comme métrique principale l’AUROC sur le jeu de validation.\n",
    "- **Graphique en haut à gauche** : Évolution de l’AUROC au fil du temps. On observe une progression globale, avec une stabilisation autour de **0.930 à 0.934**, ce qui indique une convergence vers des combinaisons efficaces.\n",
    "- **Encart à droite** : Importance des hyperparamètres par rapport à l’AUROC. Les plus influents sont :\n",
    "    - taille des couches cachées,\n",
    "    - taux d’apprentissage,\n",
    "    - taux de dropout.\n",
    "        \n",
    "On note une **corrélation positive du hidden_dim** et du **dropout**, et une **corrélation négative pour le learning_rate**, indiquant qu’un taux trop élevé dégrade la performance.\n",
    "        \n",
    "- **Graphique en bas** : Visualisation parallèle des hyperparamètres. Chaque ligne correspond à un essai, colorée selon la valeur de l’AUROC.\n",
    "    - Les lignes les plus claires (meilleurs scores) se regroupent autour de certaines plages :\n",
    "        - hidden_dim autour de 300-450,\n",
    "        - drop_rate entre 0.2 et 0.4,\n",
    "        - learning_rate entre 2e-5 et 5e-5.\n",
    "\n",
    "Le sweep a permis d’identifier une configuration optimale et de mieux comprendre l’influence de chaque paramètre sur la performance du modèle.\n"
   ]
  },
  {
   "cell_type": "markdown",
   "id": "afb564ca",
   "metadata": {
    "slideshow": {
     "slide_type": "subslide"
    }
   },
   "source": [
    "## 🚀 nnU-Net\n",
    "\n",
    "- Même structure que U-Net classique.\n",
    "- Ajustements minimes :  \n",
    "  - **Leaky ReLU** à la place du **ReLU**  \n",
    "  - Instance Normalization au lieu de BatchNorm  \n",
    "- Tout se joue dans le **pipeline automatique** :  \n",
    "  - pré-traitement,  \n",
    "  - entraînement,  \n",
    "  - inférence,  \n",
    "  - post-traitement."
   ]
  },
  {
   "cell_type": "markdown",
   "id": "bbab4611",
   "metadata": {
    "slideshow": {
     "slide_type": "notes"
    }
   },
   "source": [
    "Quentin : \n",
    "\n",
    "nnU-Net (no-new U-Net) représente une approche révolutionnaire dans le domaine de la segmentation médicale. Contrairement à ce que son nom pourrait suggérer, ce n'est pas seulement une architecture de réseau, mais un **framework complet d'auto-configuration** pour la segmentation d'images médicales.\n",
    "\n",
    "L'architecture de base reste similaire au U-Net classique, avec quelques modifications mineures comme l'utilisation de Leaky ReLU à la place de ReLU standard et l'Instance Normalization à la place de la Batch Normalization, qui améliore la stabilité lors de l'entraînement sur de petits batchs.\n",
    "\n",
    "Ce qui distingue vraiment nnU-Net, c'est son pipeline automatisé qui configure tous les aspects du processus :\n",
    "\n",
    "1. **Prétraitement intelligeant** : Analyse automatique des caractéristiques du dataset (résolution, intensités, anisotropie) pour déterminer la normalisation optimale et le rééchantillonnage.\n",
    "\n",
    "2. **Configuration du réseau** : Ajuste automatiquement la profondeur, les tailles d'entrée et les paramètres architecturaux en fonction des dimensions des images et des ressources disponibles.\n",
    "\n",
    "3. **Stratégie d'entraînement adaptative** : Sélection de la fonction de perte appropriée, adaptation des paramètres d'augmentation de données et régulation des hyperparamètres d'optimisation.\n",
    "\n",
    "4. **Post-traitement optimisé** : Application de processus de raffinement comme des opérations morphologiques conditionnelles basées sur les statistiques du jeu d'entraînement.\n",
    "\n",
    "En essence, nnU-Net transforme l'art de la segmentation médicale en une science reproductible et automatisée, éliminant le besoin d'ajustements manuels fastidieux des hyperparamètres."
   ]
  },
  {
   "cell_type": "markdown",
   "id": "ef30b706",
   "metadata": {
    "slideshow": {
     "slide_type": "subslide"
    }
   },
   "source": [
    "## 🚀 U-Net\n",
    "\n",
    "![](./images/68747470733a2f2f692e696d6775722e636f6d2f6a6544567071462e706e67.png)\n"
   ]
  },
  {
   "cell_type": "markdown",
   "id": "c8b3f766",
   "metadata": {
    "slideshow": {
     "slide_type": "notes"
    }
   },
   "source": [
    "Alix : \n",
    "\n",
    "Je vous explique brièvement comment fonctionne le U-Net.\n",
    "C’est une architecture en forme de U avec deux chemins :\n",
    "\n",
    "1. D’abord une phase de contraction, qui capture le contexte global. Elle est constitué de plusieurs blocs de convolution, suivis d'une opération de max pooling pour réduire la taille de l'image tout en augmentant le nombre de canaux. Chaque bloc de convolution est suivi d'une activation ReLU et d'une normalisation par lot (BatchNorm). Cette phase permet au réseau d'apprendre des caractéristiques à différentes échelles.\n",
    "\n",
    "2. Puis une phase d’expansion, qui restaure la résolution avec des informations plus précises grâce aux connexions skip. Elle utilise des convolutions transposées pour augmenter la taille de l'image, suivies de convolutions classiques. Les connexions skip entre les couches correspondantes de la phase de contraction et d'expansion permettent de conserver les détails spatiaux perdus lors de la contraction.\n",
    " \n",
    "Ces connexions permettent au réseau de localiser avec précision, même sur de petites structures.\n",
    "\n",
    "À la sortie, une convolution 1x1 donne la carte des classes. \n",
    " \n",
    "Et pour les grandes images, on fait une prédiction par morceaux avec des marges pour éviter les artefacts de bord."
   ]
  },
  {
   "cell_type": "markdown",
   "id": "de764513",
   "metadata": {
    "slideshow": {
     "slide_type": "subslide"
    }
   },
   "source": [
    "## 🚀 nnU-Net\n",
    "\n",
    "Avantages :\n",
    "\n",
    "✅ nnU-Net = pipeline automatique, pas de nouvelle architecture  \n",
    "✅ Généralise très bien à des cas variés  \n",
    "✅ Montre que le **contexte d'entraînement** est souvent plus critique que l’architecture elle-même\n",
    "\n",
    "🧪 Idéal pour benchmark, pré-entraînement, ou compétition"
   ]
  },
  {
   "cell_type": "markdown",
   "id": "836aa01b",
   "metadata": {
    "slideshow": {
     "slide_type": "notes"
    }
   },
   "source": [
    "Quentin : \n",
    "\n",
    "L'avantage principal de nnU-Net réside dans son automatisation quasi-totale du pipeline de segmentation médicale. Il s'agit d'une approche \"plug-and-play\" qui permet aux chercheurs et cliniciens de se concentrer sur l'analyse des résultats plutôt que sur les aspects techniques de configuration du modèle.\n",
    "\n",
    "L'aspect remarquable de nnU-Net est sa capacité à s'adapter à quasiment n'importe quel type d'image médicale, qu'il s'agisse de scans IRM, CT, échographies ou, comme dans notre cas, d'images histopathologiques. Cette adaptabilité en fait un outil particulièrement puissant pour établir des benchmarks et comparer différentes approches sur une base commune.\n",
    "\n",
    "Par ailleurs, cette approche démontre que les performances d'un modèle de segmentation dépendent souvent davantage du contexte d'entraînement (prétraitement, augmentation, sélection des données) que de l'architecture elle-même. C'est une leçon importante pour le domaine de l'IA médicale : parfois, optimiser l'existant peut s'avérer plus efficace que créer de nouvelles architectures complexes.\n",
    "\n",
    "Enfin, nnU-Net est particulièrement adapté aux contextes de compétitions scientifiques comme les challenges MICCAI, où il a remporté de nombreuses victoires. Il constitue également une excellente base pour le pré-entraînement avant un fine-tuning avec des architectures plus spécialisées."
   ]
  },
  {
   "cell_type": "markdown",
   "id": "0f38a564",
   "metadata": {
    "slideshow": {
     "slide_type": "slide"
    }
   },
   "source": [
    "# 4. 📈 Résultats"
   ]
  },
  {
   "cell_type": "markdown",
   "id": "490d55d1",
   "metadata": {
    "slideshow": {
     "slide_type": "subslide"
    }
   },
   "source": [
    "## ✨ CellVit++\n",
    "\n",
    "![./images/best_run.png](./images/best_run.png)"
   ]
  },
  {
   "cell_type": "markdown",
   "id": "c77838b5",
   "metadata": {
    "slideshow": {
     "slide_type": "notes"
    }
   },
   "source": [
    "Alix : \n",
    "\n",
    "Voici l’évolution des principales métriques pour notre modèle CellViT-SAM-H sur 50 étapes d'entraînement. On observe d’abord une baisse régulière de la perte d'entraînement, signe que le modèle apprend efficacement à partir des données.\n",
    "\n",
    "Du côté de la validation, la perte diminue nettement au début puis se stabilise, avec une légère hausse après l’étape 10, ce qui indique un début de surapprentissage. Malgré cela, les métriques de performance restent très solides : l’AUROC dépasse 0.93, ce qui montre une très bonne capacité à distinguer les classes. Le F1-Score se stabilise autour de 0.767, ce qui traduit un bon équilibre entre précision et rappel. Enfin, la précision moyenne (Average Precision) progresse rapidement avant de se stabiliser autour de 0.445, ce qui reste un très bon score pour ce type de tâche.\n",
    "\n",
    "En résumé, le modèle montre une excellente capacité d’apprentissage et de généralisation, avec un léger surapprentissage à surveiller. Un arrêt anticipé de l'entraînement autour de l’étape 15 à 20 pourrait permettre d’optimiser encore davantage la performance sur données de validation."
   ]
  },
  {
   "cell_type": "markdown",
   "id": "c296a785",
   "metadata": {
    "slideshow": {
     "slide_type": "subslide"
    }
   },
   "source": [
    "## 🚀 nnU-Net\n",
    "\n",
    "❌ Impossible de lancer un apprentissage : \n",
    "  - Environnement incompatible ?\n",
    "  - Dépendances ?\n",
    "\n",
    "🧊 Dépannage compliqué car aucun message d'erreur (processus bloqué).\n",
    "\n",
    "```\n",
    "Date: Tue Apr 29 12:41:03 PM CEST 2025\n",
    "Noeud: juliet4\n",
    "Job ID: 22392\n",
    "Partition: mesonet\n",
    "Compte: m25031\n",
    "GPUs alloués: 0\n",
    "nnUNet_preprocessed set to: /home/alanneraud/Deep_learning_project/nnunet/nnUNet_preprocessed\n",
    "nnUNet_raw set to: /home/alanneraud/Deep_learning_project/nnunet/nnUNet_raw\n",
    "nnUNet_results set to: /home/alanneraud/Deep_learning_project/nnunet/nnUNet_results\n",
    "Activation de l'environnement uv: /home/alanneraud/Deep_learning_project/nnunet/.venv\n",
    "Python 3.10.17\n",
    "PyTorch et nnUNet (avec trainer custom) sont supposés être installés dans l'environnement uv.\n",
    "Vérification de la disponibilité du GPU via PyTorch...\n",
    "PyTorch version: 2.7.0+cu126\n",
    "CUDA available: True\n",
    "Device count: 1\n",
    "Current device: 0\n",
    "Device name: NVIDIA A100-SXM4-80GB\n",
    "Fin de la vérification PyTorch GPU.\n",
    "Étape 5: Lancement du pré-entraînement (Task 2 - NSCLC) avec nnUNetTrainerIgnoreIndex et plans nnUNetPlans_pretrain...\n",
    "```"
   ]
  },
  {
   "cell_type": "markdown",
   "id": "b7115dc7",
   "metadata": {
    "slideshow": {
     "slide_type": "notes"
    }
   },
   "source": [
    "Alix : \n",
    "\n",
    "nnU-Net : vendu comme un modèle clé en main.\n",
    "- pas possible de le faire fonctionner sur notre environnement.\n",
    "\n",
    "- Problèmes \n",
    "  - Compatibilité d'environnement et de dépendances, ce qui a rendu le dépannage compliqué.\n",
    "  - En effet, le processus d'entraînement se bloquait sans message d'erreur clair, ce qui a rendu difficile l'identification de la source du problème.\n",
    "  - Essayé avec le debugger, ça plantait lorsqu'un tenseur était chargé sur le GPU.\n",
    "\n",
    "Ce modèle ne pouvais pas tourner sur un GPU consummer car il demande trop de mémoire."
   ]
  },
  {
   "cell_type": "markdown",
   "id": "fdb74dc8",
   "metadata": {
    "slideshow": {
     "slide_type": "slide"
    }
   },
   "source": [
    "# 5. ✅ Conclusion"
   ]
  },
  {
   "cell_type": "markdown",
   "id": "f7bfd1b6",
   "metadata": {
    "slideshow": {
     "slide_type": "subslide"
    }
   },
   "source": [
    "## 🤔 Critique\n",
    "\n",
    "- **Occupation des nœuds :**\n",
    "  - Queue d'attente importante\n",
    "  - Plantage partiel de `juliet2` et `juliet4`\n",
    "- **Qualité de l'implémentation des modèles :**\n",
    "  - Gestion insuffisante des erreurs.\n",
    "  - Manque de clarté et de robustesse du code.\n",
    "- **Stabilité et dépendances des modèles :**\n",
    "  - Difficultés liées à la gestion des versions des librairies.\n",
    "  - Instabilité potentielle des environnements d'exécution.\n",
    "- **Maintenance et support des modèles :**\n",
    "  - Peu de suivi des problèmes signalés (issues).\n",
    "  - Manque de réactivité sur les contributions (pull requests)."
   ]
  },
  {
   "cell_type": "markdown",
   "id": "36add7c4",
   "metadata": {
    "slideshow": {
     "slide_type": "notes"
    }
   },
   "source": [
    "Quentin :\n",
    "\n",
    "Au cours de ce projet, l'exploitation des modèles existants a présenté plusieurs défis.\n",
    "\n",
    "1. la gestion des ressources informatiques a été problématique. La queue d'attente pour accéder aux nœuds de calcul était souvent longue, ce qui a entraîné des retards dans le démarrage des expériences. De plus, le nœud `juliet2` a rencontré des problèmes de stabilité, il était impossible d'utiliser les ressources graphiques sur ce dernier, tandis que le nœud `juliet4` a été partiellement bloqué par une tâche qui ne se termine jamais.\n",
    "\n",
    "2. La qualité de l'implémentation de certains outils s'est avérée perfectible. Par exemple, une gestion limitée des exceptions a entraîné des arrêts inattendus du programme, parfois sans message d'erreur explicite, compliquant le débogage.\n",
    "\n",
    "3. La stabilité des modèles a été affectée par une gestion imprécise des dépendances. Il a fallu tester itérativement différentes versions de librairies pour assurer la compatibilité et le bon fonctionnement, ce qui a ralenti le processus de développement.\n",
    "\n",
    "4. Le manque de maintenance active et de support communautaire pour certains des outils utilisés a été un frein. Les problèmes signalés par la communauté (issues GitHub) restent souvent sans réponse, et les propositions d'amélioration (pull requests) ne sont pas intégrées, ce qui soulève des questions sur la pérennité et la fiabilité à long terme de ces outils."
   ]
  },
  {
   "cell_type": "markdown",
   "id": "e7ff22e3",
   "metadata": {
    "slideshow": {
     "slide_type": "subslide"
    }
   },
   "source": [
    "## 🌍 Impact\n",
    "\n",
    "- **Environnemental :**\n",
    "  - Fabrication des puces\n",
    "  - Consommation énergétique\n",
    "\n",
    "- **Politique :** \n",
    "  - Dépendance à l'égard de Taïwan (TSMC) pour la fabrication des puces\n",
    "  - Dépendance à l'égard de la Chine pour les terres rares\n",
    "  - Dépendance à l'égard des États-Unis pour les logiciels et les licences (ROCm et CUDA)\n",
    "  - Indépendance sur la fabrication des machines de lithographie \n",
    "\n",
    "- **Sociétal :**\n",
    "  - Amélioration du diagnostic/pronostic\n",
    "  - Optimisation du flux de travail\n",
    "  - Aide à la décision thérapeutique\n",
    "  - Potentiel de réduction des coûts"
   ]
  },
  {
   "cell_type": "markdown",
   "id": "57807bd1",
   "metadata": {
    "slideshow": {
     "slide_type": "notes"
    }
   },
   "source": [
    "Alix : \n",
    "\n",
    "Enfin, abordons l'impact de ce type de projet et des technologies sous-jacentes.\n",
    "\n",
    "Sur le plan **environnemental**, \n",
    "1. Fabrication des puces électroniques.\n",
    "   1. Extraction et la purification de grandes quantités de silicium (~ 10 kg pour une puce), issu du sable, pour créer les *wafers* sur lesquels sont gravées les puces mémoire (VRAM) et les processeurs graphiques (GPU).\n",
    "   2. La fabrication des GPU est particulièrement gourmande : leurs *dies* (les puces individuelles) sont très larges, ce qui augmente le taux de perte lors de la découpe des *wafers*.\n",
    "2. Consommation énergétique significative\n",
    "   1. des usines de fabrication\n",
    "   2. des centres de données (entraînement/inférence)\n",
    "\n",
    "D'un point de vue **politique et économique**, observons une forte dépendance géostratégique.\n",
    "1. La production des puces de pointe est concentrée à Taïwan avec TSMC.\n",
    "2. L'approvisionnement en terres rares, essentielles, dépend largement de la Chine.\n",
    "3. Les logiciels et écosystèmes comme CUDA ou ROCm sont majoritairement américains.\n",
    "4. Cependant, l'Europe détient un avantage stratégique majeur avec l'entreprise néerlandaise ASML, qui produit les machines de lithographie EUV (Extreme Ultraviolet) indispensables à la gravure des semi-conducteurs les plus avancés et utilisées par tous les grands fondeurs mondiaux.\n",
    "\n",
    "Cependant, l'impact le plus direct et positif se situe au niveau **clinique et sociétal**.\n",
    "1. Ces outils ont le potentiel d'améliorer significativement la précision et la reproductibilité du diagnostic et du pronostic du mélanome.\n",
    "2. Ils peuvent optimiser le flux de travail des pathologistes, leur permettant de se concentrer sur les cas les plus complexes.\n",
    "3. En fournissant une analyse plus fine, ils constituent une aide précieuse à la décision thérapeutique, notamment pour prédire la réponse à l'immunothérapie.\n",
    "4. À terme, cela pourrait même contribuer à une réduction des coûts de santé en évitant des traitements inefficaces.\n",
    "5. La confiance !!!"
   ]
  }
 ],
 "metadata": {
  "kernelspec": {
   "display_name": "Python (diaporama)",
   "language": "python",
   "name": "diaporama"
  },
  "language_info": {
   "codemirror_mode": {
    "name": "ipython",
    "version": 3
   },
   "file_extension": ".py",
   "mimetype": "text/x-python",
   "name": "python",
   "nbconvert_exporter": "python",
   "pygments_lexer": "ipython3",
   "version": "3.12.7"
  }
 },
 "nbformat": 4,
 "nbformat_minor": 5
}
